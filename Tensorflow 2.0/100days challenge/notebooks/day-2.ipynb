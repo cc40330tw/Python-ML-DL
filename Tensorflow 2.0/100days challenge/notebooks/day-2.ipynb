{
 "cells": [
  {
   "cell_type": "code",
   "execution_count": 1,
   "metadata": {},
   "outputs": [],
   "source": [
    "import tensorflow as tf\n",
    "import pandas as pd\n",
    "import numpy as np"
   ]
  },
  {
   "cell_type": "code",
   "execution_count": 2,
   "metadata": {},
   "outputs": [],
   "source": [
    "import matplotlib.pyplot as plt"
   ]
  },
  {
   "cell_type": "code",
   "execution_count": 3,
   "metadata": {},
   "outputs": [
    {
     "name": "stdout",
     "output_type": "stream",
     "text": [
      "Downloading data from https://storage.googleapis.com/tensorflow/tf-keras-datasets/train-labels-idx1-ubyte.gz\n",
      "32768/29515 [=================================] - 0s 0us/step\n",
      "Downloading data from https://storage.googleapis.com/tensorflow/tf-keras-datasets/train-images-idx3-ubyte.gz\n",
      "26427392/26421880 [==============================] - 11s 0us/step\n",
      "Downloading data from https://storage.googleapis.com/tensorflow/tf-keras-datasets/t10k-labels-idx1-ubyte.gz\n",
      "8192/5148 [===============================================] - 0s 0us/step\n",
      "Downloading data from https://storage.googleapis.com/tensorflow/tf-keras-datasets/t10k-images-idx3-ubyte.gz\n",
      "4423680/4422102 [==============================] - 3s 1us/step\n"
     ]
    }
   ],
   "source": [
    "#loading the mnist dataset \n",
    "\n",
    "mnist = tf.keras.datasets.fashion_mnist\n",
    "(train_imgs,train_label),(test_imgs,test_label) = mnist.load_data()"
   ]
  },
  {
   "cell_type": "code",
   "execution_count": 23,
   "metadata": {},
   "outputs": [
    {
     "data": {
      "text/plain": [
       "array([9, 0, 3, 2, 7, 5, 1, 6, 4, 8], dtype=uint8)"
      ]
     },
     "execution_count": 23,
     "metadata": {},
     "output_type": "execute_result"
    }
   ],
   "source": [
    "label = pd.DataFrame(train_label,columns=['labels'])\n",
    "label['labels'].unique()"
   ]
  },
  {
   "cell_type": "code",
   "execution_count": 37,
   "metadata": {},
   "outputs": [
    {
     "data": {
      "image/png": "[encoded data removed]",
      "text/plain": [
       "<Figure size 1080x1080 with 3 Axes>"
      ]
     },
     "metadata": {
      "needs_background": "light"
     },
     "output_type": "display_data"
    }
   ],
   "source": [
    "# inspect one image\n",
    "plt.figure(figsize=(15,15))\n",
    "plt.subplot(1,3,1)\n",
    "plt.imshow(train_imgs[33])\n",
    "plt.subplot(1,3,2)\n",
    "plt.imshow(train_imgs[3])\n",
    "plt.subplot(1,3,3)\n",
    "plt.imshow(train_imgs[76])\n",
    "plt.show()"
   ]
  },
  {
   "cell_type": "code",
   "execution_count": 38,
   "metadata": {},
   "outputs": [],
   "source": [
    "#color range is between 0 to 255 -> change it 0 to 1\n",
    "\n",
    "train_imgs = train_imgs/255.0\n",
    "test_imgs = test_imgs/255.0"
   ]
  },
  {
   "cell_type": "code",
   "execution_count": 41,
   "metadata": {},
   "outputs": [
    {
     "data": {
      "text/plain": [
       "(60000, 28, 28)"
      ]
     },
     "execution_count": 41,
     "metadata": {},
     "output_type": "execute_result"
    }
   ],
   "source": [
    "train_imgs.shape"
   ]
  },
  {
   "cell_type": "code",
   "execution_count": 46,
   "metadata": {},
   "outputs": [],
   "source": [
    "#input image is of size 28 * 28\n",
    "model = tf.keras.Sequential([\n",
    "    tf.keras.layers.Flatten(input_shape=(28,28)),\n",
    "    tf.keras.layers.Dense(128,activation='relu'),\n",
    "    tf.keras.layers.Dense(10,activation='softmax')\n",
    "])"
   ]
  },
  {
   "cell_type": "code",
   "execution_count": 50,
   "metadata": {},
   "outputs": [
    {
     "name": "stdout",
     "output_type": "stream",
     "text": [
      "Epoch 1/10\n",
      "59986/60000 [============================>.] - ETA: 0s - loss: 0.4994 - accuracy: 0.8229\n",
      "Epoch 00001: saving model to day-2/day-2.ckpt\n",
      "WARNING:tensorflow:From C:\\Users\\lakha\\anaconda3\\envs\\100days\\lib\\site-packages\\tensorflow\\python\\ops\\resource_variable_ops.py:1817: calling BaseResourceVariable.__init__ (from tensorflow.python.ops.resource_variable_ops) with constraint is deprecated and will be removed in a future version.\n",
      "Instructions for updating:\n",
      "If using Keras pass *_constraint arguments to layers.\n",
      "INFO:tensorflow:Assets written to: day-2/day-2.ckpt\\assets\n",
      "60000/60000 [==============================] - 128s 2ms/step - loss: 0.4994 - accuracy: 0.8229\n",
      "Epoch 2/10\n",
      "59978/60000 [============================>.] - ETA: 0s - loss: 0.4120 - accuracy: 0.8567\n",
      "Epoch 00002: saving model to day-2/day-2.ckpt\n",
      "INFO:tensorflow:Assets written to: day-2/day-2.ckpt\\assets\n",
      "60000/60000 [==============================] - 129s 2ms/step - loss: 0.4120 - accuracy: 0.8568\n",
      "Epoch 3/10\n",
      "59995/60000 [============================>.] - ETA: 0s - loss: 0.3949 - accuracy: 0.8658\n",
      "Epoch 00003: saving model to day-2/day-2.ckpt\n",
      "INFO:tensorflow:Assets written to: day-2/day-2.ckpt\\assets\n",
      "60000/60000 [==============================] - 130s 2ms/step - loss: 0.3948 - accuracy: 0.8658\n",
      "Epoch 4/10\n",
      "59999/60000 [============================>.] - ETA: 0s - loss: 0.3798 - accuracy: 0.8709\n",
      "Epoch 00004: saving model to day-2/day-2.ckpt\n",
      "INFO:tensorflow:Assets written to: day-2/day-2.ckpt\\assets\n",
      "60000/60000 [==============================] - 128s 2ms/step - loss: 0.3798 - accuracy: 0.8709\n",
      "Epoch 5/10\n",
      "59988/60000 [============================>.] - ETA: 0s - loss: 0.3717 - accuracy: 0.8741\n",
      "Epoch 00005: saving model to day-2/day-2.ckpt\n",
      "INFO:tensorflow:Assets written to: day-2/day-2.ckpt\\assets\n",
      "60000/60000 [==============================] - 131s 2ms/step - loss: 0.3717 - accuracy: 0.8741\n",
      "Epoch 6/10\n",
      "59977/60000 [============================>.] - ETA: 0s - loss: 0.3651 - accuracy: 0.8766\n",
      "Epoch 00006: saving model to day-2/day-2.ckpt\n",
      "INFO:tensorflow:Assets written to: day-2/day-2.ckpt\\assets\n",
      "60000/60000 [==============================] - 130s 2ms/step - loss: 0.3652 - accuracy: 0.8766\n",
      "Epoch 7/10\n",
      "59985/60000 [============================>.] - ETA: 0s - loss: 0.3593 - accuracy: 0.8783\n",
      "Epoch 00007: saving model to day-2/day-2.ckpt\n",
      "INFO:tensorflow:Assets written to: day-2/day-2.ckpt\\assets\n",
      "60000/60000 [==============================] - 133s 2ms/step - loss: 0.3593 - accuracy: 0.8783\n",
      "Epoch 8/10\n",
      "59977/60000 [============================>.] - ETA: 0s - loss: 0.3583 - accuracy: 0.8785\n",
      "Epoch 00008: saving model to day-2/day-2.ckpt\n",
      "INFO:tensorflow:Assets written to: day-2/day-2.ckpt\\assets\n",
      "60000/60000 [==============================] - 135s 2ms/step - loss: 0.3583 - accuracy: 0.8784\n",
      "Epoch 9/10\n",
      "60000/60000 [==============================] - ETA: 0s - loss: 0.3500 - accuracy: 0.8820\n",
      "Epoch 00009: saving model to day-2/day-2.ckpt\n",
      "INFO:tensorflow:Assets written to: day-2/day-2.ckpt\\assets\n",
      "60000/60000 [==============================] - 141s 2ms/step - loss: 0.3500 - accuracy: 0.8820\n",
      "Epoch 10/10\n",
      "59979/60000 [============================>.] - ETA: 0s - loss: 0.3480 - accuracy: 0.8836\n",
      "Epoch 00010: saving model to day-2/day-2.ckpt\n",
      "INFO:tensorflow:Assets written to: day-2/day-2.ckpt\\assets\n",
      "60000/60000 [==============================] - 135s 2ms/step - loss: 0.3479 - accuracy: 0.8836\n"
     ]
    },
    {
     "data": {
      "text/plain": [
       "<tensorflow.python.keras.callbacks.History at 0x295d29e1da0>"
      ]
     },
     "execution_count": 50,
     "metadata": {},
     "output_type": "execute_result"
    }
   ],
   "source": [
    "model_path = 'day-2/day-2.ckpt'\n",
    "callbacks_cp = tf.keras.callbacks.ModelCheckpoint(filepath=model_path,save_weights_onlt=True,verbose=1)\n",
    "model.compile(optimizer='adam',loss='sparse_categorical_crossentropy',metrics=['accuracy'])\n",
    "model.fit(train_imgs,train_label,epochs=10,batch_size=1,callbacks=[callbacks_cp])"
   ]
  },
  {
   "cell_type": "code",
   "execution_count": 52,
   "metadata": {},
   "outputs": [
    {
     "name": "stdout",
     "output_type": "stream",
     "text": [
      "313/313 - 1s - loss: 0.5021 - accuracy: 0.8596\n",
      "\n",
      "Model accuracy: 86%\n"
     ]
    }
   ],
   "source": [
    "test_loss, test_acc = model.evaluate(test_imgs, test_label, verbose=2)\n",
    "print('\\nModel accuracy: {:.0f}%'.format(test_acc*100))"
   ]
  },
  {
   "cell_type": "code",
   "execution_count": 70,
   "metadata": {},
   "outputs": [
    {
     "name": "stdout",
     "output_type": "stream",
     "text": [
      "Pants\n"
     ]
    },
    {
     "data": {
      "text/plain": [
       "<matplotlib.image.AxesImage at 0x295d25cdda0>"
      ]
     },
     "execution_count": 70,
     "metadata": {},
     "output_type": "execute_result"
    },
    {
     "data": {
      "image/png": "[encoded data removed]",
      "text/plain": [
       "<Figure size 432x288 with 1 Axes>"
      ]
     },
     "metadata": {
      "needs_background": "light"
     },
     "output_type": "display_data"
    }
   ],
   "source": [
    "labels = ['Top', 'Pants', 'Pullover', 'Dress', 'Coat', 'Sandal', 'Shirt', 'Sneaker', 'Bag', 'Ankle boot']\n",
    "\n",
    "prediction = np.argmax(model.predict(test_imgs)[2])\n",
    "print(labels[prediction])\n",
    "\n",
    "plt.imshow(test_imgs[2])"
   ]
  },
  {
   "cell_type": "code",
   "execution_count": null,
   "metadata": {},
   "outputs": [],
   "source": []
  }
 ],
 "metadata": {
  "kernelspec": {
   "display_name": "100Days",
   "language": "python",
   "name": "100days"
  },
  "language_info": {
   "codemirror_mode": {
    "name": "ipython",
    "version": 3
   },
   "file_extension": ".py",
   "mimetype": "text/x-python",
   "name": "python",
   "nbconvert_exporter": "python",
   "pygments_lexer": "ipython3",
   "version": "3.7.0"
  }
 },
 "nbformat": 4,
 "nbformat_minor": 4
}
