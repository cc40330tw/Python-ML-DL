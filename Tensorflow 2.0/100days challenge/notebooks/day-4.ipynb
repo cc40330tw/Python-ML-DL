{
 "cells": [
  {
   "cell_type": "code",
   "execution_count": 1,
   "metadata": {},
   "outputs": [],
   "source": [
    "# imports\n",
    "import tensorflow as tf\n",
    "import tensorflow_hub as hub\n",
    "import tensorflow_datasets as tfds"
   ]
  },
  {
   "cell_type": "code",
   "execution_count": 2,
   "metadata": {},
   "outputs": [],
   "source": [
    "# function to load the datasets\n",
    "def load_ds(set_name, train_split, validation_split):\n",
    "    train_data, validation_data, test_data = tfds.load(name=set_name, split=('train[:' + str(train_split) + '%]', 'train[' + str(validation_split) + '%:]', 'test'), as_supervised=True)\n",
    "    return train_data, validation_data, test_data"
   ]
  },
  {
   "cell_type": "code",
   "execution_count": 4,
   "metadata": {},
   "outputs": [
    {
     "name": "stdout",
     "output_type": "stream",
     "text": [
      "\u001b[1mDownloading and preparing dataset imdb_reviews/plain_text/1.0.0 (download: Unknown size, generated: Unknown size, total: Unknown size) to C:\\Users\\lakha\\tensorflow_datasets\\imdb_reviews\\plain_text\\1.0.0...\u001b[0m\n"
     ]
    },
    {
     "data": {
      "application/vnd.jupyter.widget-view+json": {
       "model_id": "d105b1934a5b42e3a7a1996db17dafa1",
       "version_major": 2,
       "version_minor": 0
      },
      "text/plain": [
       "HBox(children=(FloatProgress(value=1.0, bar_style='info', description='Dl Completed...', max=1.0, style=Progre…"
      ]
     },
     "metadata": {},
     "output_type": "display_data"
    },
    {
     "data": {
      "application/vnd.jupyter.widget-view+json": {
       "model_id": "af4f0996bb9e44e580f901d5b99b4051",
       "version_major": 2,
       "version_minor": 0
      },
      "text/plain": [
       "HBox(children=(FloatProgress(value=1.0, bar_style='info', description='Dl Size...', max=1.0, style=ProgressSty…"
      ]
     },
     "metadata": {},
     "output_type": "display_data"
    },
    {
     "name": "stdout",
     "output_type": "stream",
     "text": [
      "\n",
      "\n",
      "\n",
      "\n"
     ]
    },
    {
     "data": {
      "application/vnd.jupyter.widget-view+json": {
       "model_id": "",
       "version_major": 2,
       "version_minor": 0
      },
      "text/plain": [
       "HBox(children=(FloatProgress(value=1.0, bar_style='info', max=1.0), HTML(value='')))"
      ]
     },
     "metadata": {},
     "output_type": "display_data"
    },
    {
     "name": "stdout",
     "output_type": "stream",
     "text": [
      "Shuffling and writing examples to C:\\Users\\lakha\\tensorflow_datasets\\imdb_reviews\\plain_text\\1.0.0.incomplete8VJSTD\\imdb_reviews-train.tfrecord\n"
     ]
    },
    {
     "data": {
      "application/vnd.jupyter.widget-view+json": {
       "model_id": "f847b12b3d004b6aa9b327e65ebba397",
       "version_major": 2,
       "version_minor": 0
      },
      "text/plain": [
       "HBox(children=(FloatProgress(value=0.0, max=25000.0), HTML(value='')))"
      ]
     },
     "metadata": {},
     "output_type": "display_data"
    },
    {
     "data": {
      "application/vnd.jupyter.widget-view+json": {
       "model_id": "",
       "version_major": 2,
       "version_minor": 0
      },
      "text/plain": [
       "HBox(children=(FloatProgress(value=1.0, bar_style='info', max=1.0), HTML(value='')))"
      ]
     },
     "metadata": {},
     "output_type": "display_data"
    },
    {
     "name": "stdout",
     "output_type": "stream",
     "text": [
      "Shuffling and writing examples to C:\\Users\\lakha\\tensorflow_datasets\\imdb_reviews\\plain_text\\1.0.0.incomplete8VJSTD\\imdb_reviews-test.tfrecord\n"
     ]
    },
    {
     "data": {
      "application/vnd.jupyter.widget-view+json": {
       "model_id": "4f5bb6e42d324334afb57f68e6266e26",
       "version_major": 2,
       "version_minor": 0
      },
      "text/plain": [
       "HBox(children=(FloatProgress(value=0.0, max=25000.0), HTML(value='')))"
      ]
     },
     "metadata": {},
     "output_type": "display_data"
    },
    {
     "data": {
      "application/vnd.jupyter.widget-view+json": {
       "model_id": "",
       "version_major": 2,
       "version_minor": 0
      },
      "text/plain": [
       "HBox(children=(FloatProgress(value=1.0, bar_style='info', max=1.0), HTML(value='')))"
      ]
     },
     "metadata": {},
     "output_type": "display_data"
    },
    {
     "name": "stdout",
     "output_type": "stream",
     "text": [
      "Shuffling and writing examples to C:\\Users\\lakha\\tensorflow_datasets\\imdb_reviews\\plain_text\\1.0.0.incomplete8VJSTD\\imdb_reviews-unsupervised.tfrecord\n"
     ]
    },
    {
     "data": {
      "application/vnd.jupyter.widget-view+json": {
       "model_id": "bcd5809b65f745d08c87df576155ac1c",
       "version_major": 2,
       "version_minor": 0
      },
      "text/plain": [
       "HBox(children=(FloatProgress(value=0.0, max=50000.0), HTML(value='')))"
      ]
     },
     "metadata": {},
     "output_type": "display_data"
    },
    {
     "name": "stdout",
     "output_type": "stream",
     "text": [
      "\u001b[1mDataset imdb_reviews downloaded and prepared to C:\\Users\\lakha\\tensorflow_datasets\\imdb_reviews\\plain_text\\1.0.0. Subsequent calls will reuse this data.\u001b[0m\n"
     ]
    }
   ],
   "source": [
    "# load data\n",
    "train_data, validation_data, test_data = load_ds('imdb_reviews', 60, 60)"
   ]
  },
  {
   "cell_type": "code",
   "execution_count": 5,
   "metadata": {},
   "outputs": [
    {
     "name": "stdout",
     "output_type": "stream",
     "text": [
      "Model: \"sequential\"\n",
      "_________________________________________________________________\n",
      "Layer (type)                 Output Shape              Param #   \n",
      "=================================================================\n",
      "keras_layer (KerasLayer)     (None, 20)                400020    \n",
      "_________________________________________________________________\n",
      "dense (Dense)                (None, 16)                336       \n",
      "_________________________________________________________________\n",
      "dense_1 (Dense)              (None, 1)                 17        \n",
      "=================================================================\n",
      "Total params: 400,373\n",
      "Trainable params: 400,373\n",
      "Non-trainable params: 0\n",
      "_________________________________________________________________\n"
     ]
    }
   ],
   "source": [
    "embedding = \"https://tfhub.dev/google/tf2-preview/gnews-swivel-20dim/1\"\n",
    "hub_layer = hub.KerasLayer(embedding, input_shape=[],dtype=tf.string, trainable=True)\n",
    "\n",
    "model = tf.keras.Sequential()\n",
    "model.add(hub_layer)\n",
    "model.add(tf.keras.layers.Dense(16, activation='relu'))\n",
    "model.add(tf.keras.layers.Dense(1))\n",
    "\n",
    "model.summary()"
   ]
  },
  {
   "cell_type": "code",
   "execution_count": 6,
   "metadata": {},
   "outputs": [
    {
     "name": "stdout",
     "output_type": "stream",
     "text": [
      "Epoch 1/20\n",
      "30/30 [==============================] - 6s 213ms/step - loss: 0.6527 - accuracy: 0.6133 - val_loss: 0.6212 - val_accuracy: 0.6333\n",
      "Epoch 2/20\n",
      "30/30 [==============================] - 4s 145ms/step - loss: 0.6002 - accuracy: 0.6582 - val_loss: 0.5811 - val_accuracy: 0.6686\n",
      "Epoch 3/20\n",
      "30/30 [==============================] - 5s 176ms/step - loss: 0.5590 - accuracy: 0.6891 - val_loss: 0.5464 - val_accuracy: 0.6994\n",
      "Epoch 4/20\n",
      "30/30 [==============================] - 5s 157ms/step - loss: 0.5206 - accuracy: 0.7250 - val_loss: 0.5141 - val_accuracy: 0.7260\n",
      "Epoch 5/20\n",
      "30/30 [==============================] - 4s 128ms/step - loss: 0.4838 - accuracy: 0.7541 - val_loss: 0.4851 - val_accuracy: 0.7573\n",
      "Epoch 6/20\n",
      "30/30 [==============================] - 5s 159ms/step - loss: 0.4481 - accuracy: 0.7775 - val_loss: 0.4545 - val_accuracy: 0.7729\n",
      "Epoch 7/20\n",
      "30/30 [==============================] - 5s 156ms/step - loss: 0.4124 - accuracy: 0.8008 - val_loss: 0.4294 - val_accuracy: 0.7977\n",
      "Epoch 8/20\n",
      "30/30 [==============================] - 4s 139ms/step - loss: 0.3797 - accuracy: 0.8259 - val_loss: 0.4031 - val_accuracy: 0.8066\n",
      "Epoch 9/20\n",
      "30/30 [==============================] - 4s 145ms/step - loss: 0.3487 - accuracy: 0.8438 - val_loss: 0.3837 - val_accuracy: 0.8241\n",
      "Epoch 10/20\n",
      "30/30 [==============================] - 5s 154ms/step - loss: 0.3204 - accuracy: 0.8604 - val_loss: 0.3649 - val_accuracy: 0.8273\n",
      "Epoch 11/20\n",
      "30/30 [==============================] - 5s 172ms/step - loss: 0.2953 - accuracy: 0.8741 - val_loss: 0.3507 - val_accuracy: 0.8370\n",
      "Epoch 12/20\n",
      "30/30 [==============================] - 5s 182ms/step - loss: 0.2739 - accuracy: 0.8838 - val_loss: 0.3395 - val_accuracy: 0.8497\n",
      "Epoch 13/20\n",
      "30/30 [==============================] - 5s 162ms/step - loss: 0.2530 - accuracy: 0.8961 - val_loss: 0.3301 - val_accuracy: 0.8522\n",
      "Epoch 14/20\n",
      "30/30 [==============================] - 5s 178ms/step - loss: 0.2355 - accuracy: 0.9051 - val_loss: 0.3235 - val_accuracy: 0.8566\n",
      "Epoch 15/20\n",
      "30/30 [==============================] - 5s 174ms/step - loss: 0.2193 - accuracy: 0.9137 - val_loss: 0.3190 - val_accuracy: 0.8602\n",
      "Epoch 16/20\n",
      "30/30 [==============================] - 5s 178ms/step - loss: 0.2041 - accuracy: 0.9225 - val_loss: 0.3150 - val_accuracy: 0.8614\n",
      "Epoch 17/20\n",
      "30/30 [==============================] - 5s 158ms/step - loss: 0.1908 - accuracy: 0.9281 - val_loss: 0.3117 - val_accuracy: 0.8621\n",
      "Epoch 18/20\n",
      "30/30 [==============================] - 5s 159ms/step - loss: 0.1777 - accuracy: 0.9332 - val_loss: 0.3127 - val_accuracy: 0.8638\n",
      "Epoch 19/20\n",
      "30/30 [==============================] - 5s 160ms/step - loss: 0.1653 - accuracy: 0.9383 - val_loss: 0.3125 - val_accuracy: 0.8646\n",
      "Epoch 20/20\n",
      "30/30 [==============================] - 5s 166ms/step - loss: 0.1530 - accuracy: 0.9454 - val_loss: 0.3139 - val_accuracy: 0.8688\n"
     ]
    }
   ],
   "source": [
    "# compile the model\n",
    "model.compile(optimizer='adam',\n",
    "              loss=tf.keras.losses.BinaryCrossentropy(from_logits=True),\n",
    "              metrics=['accuracy'])\n",
    "\n",
    "# train the model\n",
    "history = model.fit(train_data.shuffle(10000).batch(512),\n",
    "                    epochs=20,\n",
    "                    validation_data=validation_data.batch(512),\n",
    "                    verbose=1)"
   ]
  },
  {
   "cell_type": "code",
   "execution_count": 7,
   "metadata": {},
   "outputs": [
    {
     "name": "stdout",
     "output_type": "stream",
     "text": [
      "49/49 - 6s - loss: 0.3291 - accuracy: 0.8578\n",
      "loss: 0.329\n",
      "accuracy: 0.858\n"
     ]
    }
   ],
   "source": [
    "# evaluate\n",
    "results = model.evaluate(test_data.batch(512), verbose=2)\n",
    "\n",
    "for name, value in zip(model.metrics_names, results):\n",
    "  print(\"%s: %.3f\" % (name, value))"
   ]
  },
  {
   "cell_type": "code",
   "execution_count": null,
   "metadata": {},
   "outputs": [],
   "source": []
  }
 ],
 "metadata": {
  "kernelspec": {
   "display_name": "100Days",
   "language": "python",
   "name": "100days"
  }
 },
 "nbformat": 4,
 "nbformat_minor": 4
}
