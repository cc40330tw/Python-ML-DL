{
 "cells": [
  {
   "cell_type": "code",
   "execution_count": 1,
   "metadata": {},
   "outputs": [],
   "source": [
    "#structuring tensorflow code\n",
    "\n",
    "# import libraries\n",
    "import tensorflow as tf\n",
    "import numpy as np\n",
    "import matplotlib.pyplot as plt"
   ]
  },
  {
   "cell_type": "code",
   "execution_count": 2,
   "metadata": {},
   "outputs": [],
   "source": [
    "# import the fashion MNIST dataset\n",
    "mnist = tf.keras.datasets.fashion_mnist\n",
    "\n",
    "# get  the train and test sets\n",
    "(train_imgs, train_labels), (test_imgs, test_labels) = mnist.load_data()"
   ]
  },
  {
   "cell_type": "code",
   "execution_count": 3,
   "metadata": {},
   "outputs": [],
   "source": [
    "# set the labels\n",
    "labels = ['Top', 'Pants', 'Pullover', 'Dress', 'Coat', 'Sandal', 'Shirt', 'Sneaker', 'Bag', 'Ankle boot']"
   ]
  },
  {
   "cell_type": "code",
   "execution_count": 4,
   "metadata": {},
   "outputs": [
    {
     "name": "stdout",
     "output_type": "stream",
     "text": [
      "There are 60000 images on this set.\n",
      "The images are in the 28 x 28 pxs format.\n"
     ]
    }
   ],
   "source": [
    "# Check shapes\n",
    "print('There are {} images on this set.'.format(train_imgs.shape[0]))\n",
    "print('The images are in the {} x {} pxs format.'.format(train_imgs.shape[1], train_imgs.shape[2]))"
   ]
  },
  {
   "cell_type": "code",
   "execution_count": 5,
   "metadata": {},
   "outputs": [],
   "source": [
    "def preprocess(trainset, testset):\n",
    "  # normalize\n",
    "  trainset = trainset / 255.0\n",
    "  testset  = testset / 255.0\n",
    "  \n",
    "  # reshape dataset to single channel\n",
    "  trainset = trainset.reshape((trainset.shape[0], 28, 28, 1))\n",
    "  testset  = testset.reshape((testset.shape[0], 28, 28, 1))\n",
    "\n",
    "  return trainset, testset\n",
    "\n",
    "# normalize and reshape images\n",
    "train_imgs, test_imgs = preprocess(train_imgs, test_imgs)"
   ]
  },
  {
   "cell_type": "code",
   "execution_count": 6,
   "metadata": {},
   "outputs": [],
   "source": [
    "class MNISTModel(tf.keras.Model):\n",
    "  def __init__(self):\n",
    "    super(MNISTModel, self).__init__()\n",
    "    self.conv1   = tf.keras.layers.Conv2D(32, \n",
    "                                          kernel_size=(3,3), \n",
    "                                          input_shape=(28,28,1), \n",
    "                                          activation='relu')\n",
    "    \n",
    "    self.maxpool = tf.keras.layers.MaxPooling2D(pool_size=(2,2))\n",
    "    self.dropout = tf.keras.layers.Dropout(0.2)\n",
    "\n",
    "    self.flatten = tf.keras.layers.Flatten()\n",
    "    self.d1      = tf.keras.layers.Dense(128, activation='relu')\n",
    "    self.d2      = tf.keras.layers.Dense(10, activation='softmax')\n",
    "\n",
    "  def call(self, x):\n",
    "    x = self.conv1(x)\n",
    "    x = self.maxpool(x)\n",
    "    x = self.dropout(x)\n",
    "\n",
    "    x = self.flatten(x)\n",
    "    x = self.d1(x)\n",
    "    return self.d2(x)\n",
    "\n",
    "model = MNISTModel()"
   ]
  },
  {
   "cell_type": "code",
   "execution_count": 8,
   "metadata": {},
   "outputs": [
    {
     "name": "stdout",
     "output_type": "stream",
     "text": [
      "Epoch 1/10\n",
      "1875/1875 [==============================] - 38s 20ms/step - loss: 0.3902 - accuracy: 0.8613\n",
      "Epoch 2/10\n",
      "1875/1875 [==============================] - 38s 20ms/step - loss: 0.2744 - accuracy: 0.9005\n",
      "Epoch 3/10\n",
      "1875/1875 [==============================] - 38s 20ms/step - loss: 0.2334 - accuracy: 0.9141\n",
      "Epoch 4/10\n",
      "1875/1875 [==============================] - 34s 18ms/step - loss: 0.2050 - accuracy: 0.9241\n",
      "Epoch 5/10\n",
      "1875/1875 [==============================] - 36s 19ms/step - loss: 0.1794 - accuracy: 0.9327: 0s - loss: 0.1794 - accura\n",
      "Epoch 6/10\n",
      "1875/1875 [==============================] - 37s 20ms/step - loss: 0.1603 - accuracy: 0.93970s - loss: 0.160\n",
      "Epoch 7/10\n",
      "1875/1875 [==============================] - 36s 19ms/step - loss: 0.1439 - accuracy: 0.9456\n",
      "Epoch 8/10\n",
      "1875/1875 [==============================] - 37s 20ms/step - loss: 0.1280 - accuracy: 0.9521\n",
      "Epoch 9/10\n",
      "1875/1875 [==============================] - 37s 20ms/step - loss: 0.1146 - accuracy: 0.9572\n",
      "Epoch 10/10\n",
      "1875/1875 [==============================] - 38s 20ms/step - loss: 0.1026 - accuracy: 0.9614\n"
     ]
    },
    {
     "data": {
      "text/plain": [
       "<tensorflow.python.keras.callbacks.History at 0x1797958fe48>"
      ]
     },
     "execution_count": 8,
     "metadata": {},
     "output_type": "execute_result"
    }
   ],
   "source": [
    "# compile\n",
    "model.compile(optimizer='adam',\n",
    "              loss='sparse_categorical_crossentropy',\n",
    "              metrics=['accuracy'])\n",
    "\n",
    "# fit\n",
    "model.fit(train_imgs, \n",
    "          train_labels, \n",
    "          epochs=10)"
   ]
  },
  {
   "cell_type": "code",
   "execution_count": 9,
   "metadata": {},
   "outputs": [
    {
     "name": "stdout",
     "output_type": "stream",
     "text": [
      "313/313 - 2s - loss: 0.2747 - accuracy: 0.9167\n",
      "\n",
      "Model accuracy: 92%\n"
     ]
    }
   ],
   "source": [
    "test_loss, test_acc = model.evaluate(test_imgs, test_labels, verbose=2)\n",
    "print('\\nModel accuracy: {:.0f}%'.format(test_acc*100))"
   ]
  },
  {
   "cell_type": "code",
   "execution_count": null,
   "metadata": {},
   "outputs": [],
   "source": []
  }
 ],
 "metadata": {
  "kernelspec": {
   "display_name": "100Days",
   "language": "python",
   "name": "100days"
  },
  "language_info": {
   "codemirror_mode": {
    "name": "ipython",
    "version": 3
   },
   "file_extension": ".py",
   "mimetype": "text/x-python",
   "name": "python",
   "nbconvert_exporter": "python",
   "pygments_lexer": "ipython3",
   "version": "3.7.0"
  }
 },
 "nbformat": 4,
 "nbformat_minor": 4
}
